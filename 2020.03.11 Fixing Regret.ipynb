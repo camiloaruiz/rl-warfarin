{
 "cells": [
  {
   "cell_type": "markdown",
   "metadata": {},
   "source": [
    "# Test Run"
   ]
  },
  {
   "cell_type": "code",
   "execution_count": null,
   "metadata": {
    "scrolled": false
   },
   "outputs": [],
   "source": [
    "%matplotlib inline\n",
    "# %run main.py --model ThompsonNet --num_trials 10 --R 0.001 --epsilon 0.99 --delta 0.99 --impute_VKORC1 True\n",
    "\n",
    "%run main.py --model UCBNet --num_trials 10 --impute_VKORC1 True\n",
    "\n",
    "# [x] Mean imputation for height and weight\n",
    "# [x] Imputations in Section 4 of the Appendix\n",
    "# [x] Regrets <= 20\n",
    "# [x] If you impute everything; try to get above 5000 data points (~5500) from section 4"
   ]
  },
  {
   "cell_type": "code",
   "execution_count": null,
   "metadata": {},
   "outputs": [],
   "source": []
  }
 ],
 "metadata": {
  "kernelspec": {
   "display_name": "Python 3",
   "language": "python",
   "name": "python3"
  },
  "language_info": {
   "codemirror_mode": {
    "name": "ipython",
    "version": 3
   },
   "file_extension": ".py",
   "mimetype": "text/x-python",
   "name": "python",
   "nbconvert_exporter": "python",
   "pygments_lexer": "ipython3",
   "version": "3.6.3"
  }
 },
 "nbformat": 4,
 "nbformat_minor": 2
}
